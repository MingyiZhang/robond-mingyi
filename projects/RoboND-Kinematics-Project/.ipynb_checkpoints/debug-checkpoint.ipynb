{
 "cells": [
  {
   "cell_type": "markdown",
   "metadata": {},
   "source": [
    "Forward Kinematics"
   ]
  },
  {
   "cell_type": "code",
   "execution_count": 2,
   "metadata": {
    "collapsed": true
   },
   "outputs": [],
   "source": [
    "from sympy import symbols, cos, sin, pi, simplify\n",
    "from sympy.matrices import Matrix\n",
    "import numpy as np"
   ]
  },
  {
   "cell_type": "code",
   "execution_count": 3,
   "metadata": {
    "collapsed": true
   },
   "outputs": [],
   "source": [
    "def rot_x(q):\n",
    "    R_x = Matrix([[ 1,              0,        0],\n",
    "                  [ 0,         cos(q),  -sin(q)],\n",
    "                  [ 0,         sin(q),  cos(q)]])\n",
    "    \n",
    "    return R_x\n",
    "    \n",
    "def rot_y(q):              \n",
    "    R_y = Matrix([[ cos(q),        0,  sin(q)],\n",
    "                  [      0,        1,       0],\n",
    "                  [-sin(q),        0, cos(q)]])\n",
    "    \n",
    "    return R_y\n",
    "\n",
    "def rot_z(q):    \n",
    "    R_z = Matrix([[ cos(q),  -sin(q),       0],\n",
    "                  [ sin(q),   cos(q),       0],\n",
    "                  [      0,        0,       1]])\n",
    "    \n",
    "    return R_z"
   ]
  },
  {
   "cell_type": "code",
   "execution_count": 9,
   "metadata": {
    "collapsed": true
   },
   "outputs": [],
   "source": [
    "def t_x(d):\n",
    "    t = Matrix([[d], [0], [0]])\n",
    "    return t\n",
    "\n",
    "def t_y(d):\n",
    "    t = Matrix([[0], [d], [0]])\n",
    "    return t\n",
    "\n",
    "def t_z(d):\n",
    "    t = Matrix([[0], [0], [d]])\n",
    "    return t"
   ]
  },
  {
   "cell_type": "code",
   "execution_count": 5,
   "metadata": {
    "collapsed": true
   },
   "outputs": [],
   "source": [
    "def T(R, t=Matrix([[0], [0], [0]])):\n",
    "    T = R.row_join(t)\n",
    "    T = T.col_join(Matrix([[0,0,0,1]]))\n",
    "    return T"
   ]
  },
  {
   "cell_type": "code",
   "execution_count": 6,
   "metadata": {
    "collapsed": true
   },
   "outputs": [],
   "source": [
    "alpha0, alpha1, alpha2 = symbols('alpha0:3')\n",
    "a0, a1, a2 = symbols('a0:3')\n",
    "d1, d2, d3 = symbols('d1:4')\n",
    "theta1, theta2, theta3 = symbols('theta1:4')"
   ]
  },
  {
   "cell_type": "code",
   "execution_count": 7,
   "metadata": {
    "collapsed": true
   },
   "outputs": [],
   "source": [
    "rtd = 180. / pi\n",
    "dtr = pi / 180."
   ]
  },
  {
   "cell_type": "code",
   "execution_count": 8,
   "metadata": {
    "collapsed": true
   },
   "outputs": [],
   "source": [
    "I = Matrix([[ 1, 0, 0],\n",
    "            [ 0, 1, 0],\n",
    "            [ 0, 0, 1]])"
   ]
  },
  {
   "cell_type": "code",
   "execution_count": 10,
   "metadata": {
    "collapsed": true
   },
   "outputs": [],
   "source": [
    "T01 = T(rot_x(alpha0)) * T(I, t_x(a0)) * T(rot_z(theta1)) * T(I, t_z(d1))\n",
    "T12 = T(rot_x(alpha1)) * T(I, t_x(a1)) * T(rot_z(theta2)) * T(I, t_z(d2))\n",
    "T23 = T(rot_x(alpha2)) * T(I, t_x(a2)) * T(rot_z(theta3)) * T(I, t_z(d3))"
   ]
  },
  {
   "cell_type": "code",
   "execution_count": null,
   "metadata": {
    "collapsed": true
   },
   "outputs": [],
   "source": []
  }
 ],
 "metadata": {
  "kernelspec": {
   "display_name": "Python 3",
   "language": "python",
   "name": "python3"
  },
  "language_info": {
   "codemirror_mode": {
    "name": "ipython",
    "version": 3
   },
   "file_extension": ".py",
   "mimetype": "text/x-python",
   "name": "python",
   "nbconvert_exporter": "python",
   "pygments_lexer": "ipython3",
   "version": "3.5.2"
  }
 },
 "nbformat": 4,
 "nbformat_minor": 1
}

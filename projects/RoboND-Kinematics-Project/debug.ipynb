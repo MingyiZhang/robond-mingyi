{
 "cells": [
  {
   "cell_type": "markdown",
   "metadata": {},
   "source": [
    "# Debug"
   ]
  },
  {
   "cell_type": "markdown",
   "metadata": {},
   "source": [
    "## Definitions"
   ]
  },
  {
   "cell_type": "code",
   "execution_count": 1,
   "metadata": {
    "collapsed": true
   },
   "outputs": [],
   "source": [
    "# impose modules\n",
    "from sympy import symbols, cos, sin, pi, simplify, atan2, sqrt\n",
    "from sympy.matrices import Matrix, matrix_multiply_elementwise\n",
    "import numpy as np\n",
    "import tf"
   ]
  },
  {
   "cell_type": "code",
   "execution_count": 2,
   "metadata": {
    "collapsed": true
   },
   "outputs": [],
   "source": [
    "# define symbols\n",
    "q1, q2, q3, q4, q5, q6 = symbols('q1:7')"
   ]
  },
  {
   "cell_type": "code",
   "execution_count": 3,
   "metadata": {
    "collapsed": true
   },
   "outputs": [],
   "source": [
    "# alpha0, alpha1, alpha2, alpha3, alpha4, alpha5, alpha6 = symbols('alpha0:7')\n",
    "# a0, a1, a2, a3, a4, a5, a6 = symbols('a0:7')\n",
    "# d1, d2, d3, d4, d5, d6, dG = symbols('d1:8')\n",
    "# theta1, theta2, theta3, theta4, theta5, theta6, thetaG = symbols('theta1:8')\n",
    "# q1, q2, q3, q4, q5, q6 = symbols('q1:7')"
   ]
  },
  {
   "cell_type": "code",
   "execution_count": 4,
   "metadata": {
    "collapsed": true
   },
   "outputs": [],
   "source": [
    "# identity matrix\n",
    "I = Matrix([[1, 0, 0], \n",
    "            [0, 1, 0], \n",
    "            [0, 0, 1]])"
   ]
  },
  {
   "cell_type": "code",
   "execution_count": 5,
   "metadata": {
    "collapsed": true
   },
   "outputs": [],
   "source": [
    "# orientation between frame G and frame gripper_link\n",
    "rGg = Matrix([[0, 0, 1],\n",
    "              [0, -1, 0],\n",
    "              [1, 0, 0]])"
   ]
  },
  {
   "cell_type": "code",
   "execution_count": 6,
   "metadata": {
    "collapsed": true
   },
   "outputs": [],
   "source": [
    "# origin of frame\n",
    "origin = Matrix([[0,0,0,1]]).T"
   ]
  },
  {
   "cell_type": "code",
   "execution_count": 7,
   "metadata": {
    "collapsed": true
   },
   "outputs": [],
   "source": [
    "# rotation matrices\n",
    "\n",
    "def rot_x(q):\n",
    "    R_x = Matrix([[ 1,              0,        0],\n",
    "                  [ 0,         cos(q),  -sin(q)],\n",
    "                  [ 0,         sin(q),  cos(q)]])\n",
    "    \n",
    "    return R_x\n",
    "    \n",
    "def rot_y(q):              \n",
    "    R_y = Matrix([[ cos(q),        0,  sin(q)],\n",
    "                  [      0,        1,       0],\n",
    "                  [-sin(q),        0, cos(q)]])\n",
    "    \n",
    "    return R_y\n",
    "\n",
    "def rot_z(q):    \n",
    "    R_z = Matrix([[ cos(q),  -sin(q),       0],\n",
    "                  [ sin(q),   cos(q),       0],\n",
    "                  [      0,        0,       1]])\n",
    "    \n",
    "    return R_z"
   ]
  },
  {
   "cell_type": "code",
   "execution_count": 8,
   "metadata": {
    "collapsed": true
   },
   "outputs": [],
   "source": [
    "# translation vectors\n",
    "\n",
    "def p_x(d):\n",
    "    t = Matrix([[d], [0], [0]])\n",
    "    return t\n",
    "\n",
    "def p_y(d):\n",
    "    t = Matrix([[0], [d], [0]])\n",
    "    return t\n",
    "\n",
    "def p_z(d):\n",
    "    t = Matrix([[0], [0], [d]])\n",
    "    return t"
   ]
  },
  {
   "cell_type": "code",
   "execution_count": 9,
   "metadata": {
    "collapsed": true
   },
   "outputs": [],
   "source": [
    "# homogeneous transform: put rotation and translation together\n",
    "def H(R, p=Matrix([[0], [0], [0]])):\n",
    "    '''\n",
    "    R is rotation matrix\n",
    "    p is translation vector\n",
    "    '''\n",
    "    D = R.row_join(p)\n",
    "    D = D.col_join(Matrix([[0,0,0,1]]))\n",
    "    return D"
   ]
  },
  {
   "cell_type": "code",
   "execution_count": 10,
   "metadata": {
    "collapsed": true
   },
   "outputs": [],
   "source": [
    "# homogeneous transform between neighbouring frames\n",
    "def T(alpha, a, theta, d):\n",
    "    T = H(rot_x(alpha)) * H(I, p_x(a)) * H(rot_z(theta)) * H(I, p_z(d))\n",
    "    return T"
   ]
  },
  {
   "cell_type": "code",
   "execution_count": 11,
   "metadata": {
    "collapsed": true
   },
   "outputs": [],
   "source": [
    "# DH parameter\n",
    "s = {'alpha0': 0,     'a0': 0,      'd1': 0.75,  'theta1': q1,\n",
    "     'alpha1': -pi/2, 'a1': 0.35,   'd2': 0,     'theta2': q2 - pi/2,\n",
    "     'alpha2': 0,     'a2': 1.25,   'd3': 0,     'theta3': q3,\n",
    "     'alpha3': -pi/2, 'a3': -0.054, 'd4': 1.5,   'theta4': q4,\n",
    "     'alpha4': pi/2,  'a4': 0,      'd5': 0,     'theta5': q5,\n",
    "     'alpha5': -pi/2, 'a5': 0,      'd6': 0,     'theta6': q6,\n",
    "     'alpha6': 0,     'a6': 0,      'dG': 0.303, 'thetaG': 0}"
   ]
  },
  {
   "cell_type": "code",
   "execution_count": 12,
   "metadata": {
    "collapsed": true
   },
   "outputs": [],
   "source": [
    "# Homogeneous transform between frames\n",
    "T01 = T(s['alpha0'], s['a0'], s['theta1'], s['d1'])\n",
    "T12 = T(s['alpha1'], s['a1'], s['theta2'], s['d2'])\n",
    "T23 = T(s['alpha2'], s['a2'], s['theta3'], s['d3'])\n",
    "T34 = T(s['alpha3'], s['a3'], s['theta4'], s['d4'])\n",
    "T45 = T(s['alpha4'], s['a4'], s['theta5'], s['d5'])\n",
    "T56 = T(s['alpha5'], s['a5'], s['theta6'], s['d6'])\n",
    "T6G = T(s['alpha6'], s['a6'], s['thetaG'], s['dG'])\n",
    "TGg = H(rGg)"
   ]
  },
  {
   "cell_type": "code",
   "execution_count": 13,
   "metadata": {
    "collapsed": true
   },
   "outputs": [],
   "source": [
    "# transform from base_point to G\n",
    "T0G = T01 * T12 * T23 * T34 * T45 * T56 * T6G"
   ]
  },
  {
   "cell_type": "code",
   "execution_count": 14,
   "metadata": {
    "collapsed": true
   },
   "outputs": [],
   "source": [
    "# transform from base_point to G\n",
    "T0g = T01 * T12 * T23 * T34 * T45 * T56 * T6G * TGg"
   ]
  },
  {
   "cell_type": "code",
   "execution_count": 15,
   "metadata": {
    "collapsed": true
   },
   "outputs": [],
   "source": [
    "# initial state of joints\n",
    "state_i = {q1: 0, q2: 0, q3: 0, q4: 0, q5: 0, q6: 0}"
   ]
  },
  {
   "cell_type": "code",
   "execution_count": 16,
   "metadata": {
    "collapsed": true
   },
   "outputs": [],
   "source": [
    "# origin of frame\n",
    "origin = Matrix([[0,0,0,1]]).T"
   ]
  },
  {
   "cell_type": "markdown",
   "metadata": {},
   "source": [
    "## Forward Kinematics"
   ]
  },
  {
   "cell_type": "code",
   "execution_count": 17,
   "metadata": {
    "collapsed": true
   },
   "outputs": [],
   "source": [
    "# frame G origin\n",
    "G = origin"
   ]
  },
  {
   "cell_type": "code",
   "execution_count": 18,
   "metadata": {
    "collapsed": true,
    "scrolled": true
   },
   "outputs": [],
   "source": [
    "# forward kinematics result\n",
    "p0g = T0g * G"
   ]
  },
  {
   "cell_type": "code",
   "execution_count": 19,
   "metadata": {
    "collapsed": true
   },
   "outputs": [],
   "source": [
    "def FK_check(state, pg, og):\n",
    "    T0g_evl = np.array(T0g.evalf(subs=state)).astype(np.float32)\n",
    "    T_0g = tf.transformations.quaternion_matrix(og)\n",
    "    T_0g[:3,3] = pg\n",
    "    \n",
    "    print('T0g read by system:\\n')\n",
    "    print(T0g_evl)\n",
    "    print('\\n T0g from FK:\\n')\n",
    "    print(T_0g)\n",
    "    print('\\n difference ratio:\\n')\n",
    "    print((T0g_evl - T_0g) / T_0g)"
   ]
  },
  {
   "cell_type": "code",
   "execution_count": 20,
   "metadata": {
    "collapsed": true
   },
   "outputs": [],
   "source": [
    "# random joint state 1\n",
    "state1 = {q1: 0.31, q2: 0.83, q3: 1.04, q4: -4.25, q5: 1.45, q6: 5.55}\n",
    "\n",
    "# random gripper position 1\n",
    "pg1 = [0.76975, 0.52631, 0.104645]\n",
    "og1 = [0.699816, 0.667646, 0.0606566, 0.246631]"
   ]
  },
  {
   "cell_type": "code",
   "execution_count": 21,
   "metadata": {},
   "outputs": [
    {
     "name": "stdout",
     "output_type": "stream",
     "text": [
      "T0g read by system:\n",
      "\n",
      "[[ 0.0981307   0.90351069  0.41717955  0.77129132]\n",
      " [ 0.96437132  0.01715435 -0.26399562  0.52974582]\n",
      " [-0.24567932  0.42822206 -0.86963642  0.1017136 ]\n",
      " [ 0.          0.          0.          1.        ]]\n",
      "\n",
      " T0g from FK:\n",
      "\n",
      "[[ 0.10113891  0.90453939  0.41422145  0.76975   ]\n",
      " [ 0.9643786   0.01315638 -0.26419845  0.52631   ]\n",
      " [-0.24442756  0.42618705 -0.87098781  0.104645  ]\n",
      " [ 0.          0.          0.          1.        ]]\n",
      "\n",
      " difference ratio:\n",
      "\n",
      "[[ -2.97433310e-02  -1.13726668e-03   7.14136373e-03   2.00235863e-03]\n",
      " [ -7.54782561e-06   3.03881192e-01  -7.67724968e-04   6.52812446e-03]\n",
      " [  5.12118960e-03   4.77493376e-03  -1.55156798e-03  -2.80128265e-02]\n",
      " [             nan              nan              nan   0.00000000e+00]]\n"
     ]
    },
    {
     "name": "stderr",
     "output_type": "stream",
     "text": [
      "/usr/local/lib/python2.7/dist-packages/ipykernel_launcher.py:11: RuntimeWarning: invalid value encountered in divide\n",
      "  # This is added back by InteractiveShellApp.init_path()\n"
     ]
    }
   ],
   "source": [
    "FK_check(state1, pg1, og1)"
   ]
  },
  {
   "cell_type": "markdown",
   "metadata": {},
   "source": [
    "## Inverse Kinematics"
   ]
  },
  {
   "cell_type": "code",
   "execution_count": 22,
   "metadata": {
    "collapsed": true
   },
   "outputs": [],
   "source": [
    "def pose_wc(p_g, o_g):\n",
    "    '''\n",
    "    get the orientation and position of wrist center (WC) on frame 6\n",
    "    inputs:\n",
    "    p_g: numpy array, [x, y, z] position of gripper to origin\n",
    "    o_g: numpy array, [x, y, z, w] quaternion of gripper to origin\n",
    "    '''\n",
    "    # get homogeneous transform of rotation from quaternion og\n",
    "    T_0g = tf.transformations.quaternion_matrix(o_g)\n",
    "    # identify pg with the translation part\n",
    "    T_0g[:3, 3] = p_g\n",
    "\n",
    "    # np array rGg\n",
    "    r_Gg = np.array(rGg).astype(np.float32)\n",
    "    # r06: the 3 rotation from frame 0 to frame 6\n",
    "    r_06 = T_0g[:3, :3].dot(r_Gg)\n",
    "    # pwc: position of WC\n",
    "    x = np.array([[1.], [0.], [0.]])\n",
    "    p_wc = np.array(p_g).reshape(3,1) - s['dG'] * T_0g[:3,:3].dot(x)\n",
    "    # return T_0g, r_06, p_wc\n",
    "    return T_0g, r_06, p_wc"
   ]
  },
  {
   "cell_type": "code",
   "execution_count": 23,
   "metadata": {},
   "outputs": [
    {
     "name": "stdout",
     "output_type": "stream",
     "text": [
      "[[ 0.10113891  0.90453939  0.41422145  0.76975   ]\n",
      " [ 0.9643786   0.01315638 -0.26419845  0.52631   ]\n",
      " [-0.24442756  0.42618705 -0.87098781  0.104645  ]\n",
      " [ 0.          0.          0.          1.        ]]\n",
      "[[ 0.41422145 -0.90453939  0.10113891]\n",
      " [-0.26419845 -0.01315638  0.9643786 ]\n",
      " [-0.87098781 -0.42618705 -0.24442756]]\n",
      "[[ 0.73910491]\n",
      " [ 0.23410328]\n",
      " [ 0.17870655]]\n"
     ]
    }
   ],
   "source": [
    "T_0g, r_06, p_wc = pose_wc(pg1, og1)\n",
    "print(T_0g)\n",
    "print(r_06)\n",
    "print(p_wc)"
   ]
  },
  {
   "cell_type": "code",
   "execution_count": 24,
   "metadata": {
    "collapsed": true
   },
   "outputs": [],
   "source": [
    "def Q_1(p_wc):\n",
    "    '''\n",
    "    calculate q1\n",
    "    inputs:\n",
    "    p_wc: position of WC to frame 0\n",
    "    '''\n",
    "    q_1 = atan2(p_wc[1], p_wc[0]).evalf()\n",
    "    T_01 = np.array(T(s['alpha0'], s['a0'], s['theta1'], s['d1']).evalf(subs={q1: q_1})).astype(np.float32)\n",
    "    return q_1, T_01"
   ]
  },
  {
   "cell_type": "code",
   "execution_count": 25,
   "metadata": {
    "collapsed": true
   },
   "outputs": [],
   "source": [
    "q_1, T_01 = Q_1(p_wc)"
   ]
  },
  {
   "cell_type": "code",
   "execution_count": 26,
   "metadata": {
    "collapsed": true
   },
   "outputs": [],
   "source": [
    "def P_wc1(p_wc):\n",
    "    '''\n",
    "    get position of WC to frame 1\n",
    "    p_wc: position of WC to frame 0\n",
    "    '''\n",
    "    _, T_01 = Q_1(p_wc)\n",
    "    # get inverse matrix of T_01\n",
    "    T_01_inv = np.linalg.inv(T_01)\n",
    "    # 4-vector of p_wc\n",
    "    p_wc_4 = np.append(p_wc, 1).reshape(4, 1)\n",
    "    # p_wc1: WC position to frame 1\n",
    "    p_wc1 = T_01_inv.dot(p_wc_4)\n",
    "    # p_wc1 = p_wc1[:3]\n",
    "    return p_wc1"
   ]
  },
  {
   "cell_type": "code",
   "execution_count": 27,
   "metadata": {},
   "outputs": [
    {
     "name": "stdout",
     "output_type": "stream",
     "text": [
      "[[  7.75293767e-01]\n",
      " [  1.35838910e-09]\n",
      " [ -5.71293450e-01]\n",
      " [  1.00000000e+00]]\n"
     ]
    }
   ],
   "source": [
    "p_wc1 = P_wc1(p_wc)\n",
    "print(p_wc1)"
   ]
  },
  {
   "cell_type": "code",
   "execution_count": 28,
   "metadata": {
    "collapsed": true
   },
   "outputs": [],
   "source": [
    "def Q_2(p_wc1):\n",
    "    '''\n",
    "    calculate q2\n",
    "    inputs:\n",
    "    p_wc1: WC position to frame 1, numpy array shape=(4, 1),\n",
    "    '''\n",
    "    k34 = sqrt(s['d4'] ** 2 + s['a3'] ** 2)\n",
    "    k24 = sqrt((p_wc1[0] - s['a1']) ** 2 + p_wc1[2] ** 2)\n",
    "    cosq23 = (s['a2']**2 + k24**2 - k34**2) / (2 * s['a2'] * k24)\n",
    "    q23 = atan2(sqrt(1 - cosq23**2), cosq23)\n",
    "\n",
    "    q21 = atan2(p_wc1[2], p_wc1[0]-s['a1'])\n",
    "\n",
    "    q_2 = (pi/2 - q23 - q21).evalf()\n",
    "    T_12 = np.array(T(s['alpha1'], s['a1'], s['theta2'], s['d2']).evalf(subs={q2: q_2})).astype(np.float32)\n",
    "    return q_2, T_12"
   ]
  },
  {
   "cell_type": "code",
   "execution_count": 29,
   "metadata": {
    "collapsed": true
   },
   "outputs": [],
   "source": [
    "q_2, T_12 = Q_2(p_wc1)"
   ]
  },
  {
   "cell_type": "code",
   "execution_count": 30,
   "metadata": {
    "collapsed": true
   },
   "outputs": [],
   "source": [
    "def Q_3(p_wc1):\n",
    "    '''\n",
    "    calculate q3\n",
    "    inputs:\n",
    "    p_wc1: WC position to frame 1, numpy array shape=(4, 1),\n",
    "    '''\n",
    "    q34 = atan2(s['d4'], s['a3'])\n",
    "    k34 = sqrt(s['d4'] ** 2 + s['a3'] ** 2)\n",
    "    k24 = sqrt((p_wc1[0] - s['a1']) ** 2 + p_wc1[2] ** 2)\n",
    "\n",
    "    cosq24 = (s['a2']**2 + k34**2 - k24**2) / (2 * s['a2'] * k34)\n",
    "    q24 = atan2(sqrt(1 - cosq24**2), cosq24)\n",
    "\n",
    "    q_3 = (-q24 + q34).evalf()\n",
    "    T_23 = np.array(T(s['alpha2'], s['a2'], s['theta3'], s['d3']).evalf(subs={q3: q_3})).astype(np.float32)\n",
    "    return q_3, T_23"
   ]
  },
  {
   "cell_type": "code",
   "execution_count": 31,
   "metadata": {
    "collapsed": true
   },
   "outputs": [],
   "source": [
    "q_3, T_23 = Q_3(p_wc1)"
   ]
  },
  {
   "cell_type": "code",
   "execution_count": 32,
   "metadata": {
    "collapsed": true
   },
   "outputs": [],
   "source": [
    "T_03 = T_01.dot(T_12).dot(T_23)\n",
    "r_03 = T_03[:3, :3]"
   ]
  },
  {
   "cell_type": "code",
   "execution_count": 33,
   "metadata": {
    "collapsed": true
   },
   "outputs": [],
   "source": [
    "def Q_456(r_03, r_06):\n",
    "    '''\n",
    "    calculate q4, q5, q6\n",
    "    inputs:\n",
    "    r_03: rotation from frame 3 to frame 0, numpy array, shape=(3,3)\n",
    "    r_06: rotation from frame 6 to frame 6, numpy array, shape=(3,3)\n",
    "    '''\n",
    "    r_03_inv = np.linalg.inv(r_03)\n",
    "    r_36 = r_03_inv.dot(r_06)\n",
    "\n",
    "    r21, r22, r23 = r_36[1, :]\n",
    "    r13, r33 = r_36[[0,2], 2]\n",
    "\n",
    "    q_4 = atan2(r33, -r13).evalf()\n",
    "    q_5 = atan2(sqrt(r21**2 + r22**2), r23).evalf()\n",
    "    q_6 = atan2(-r22, r21).evalf()\n",
    "    T_34 = np.array(T(s['alpha3'], s['a3'], s['theta4'], s['d4']).evalf(subs={q4: q_4})).astype(np.float32)\n",
    "    T_45 = np.array(T(s['alpha4'], s['a4'], s['theta5'], s['d5']).evalf(subs={q5: q_5})).astype(np.float32)\n",
    "    T_56 = np.array(T(s['alpha5'], s['a5'], s['theta6'], s['d6']).evalf(subs={q6: q_6})).astype(np.float32)\n",
    "    return q_4, q_5, q_6, T_34, T_45, T_56"
   ]
  },
  {
   "cell_type": "code",
   "execution_count": 34,
   "metadata": {
    "collapsed": true
   },
   "outputs": [],
   "source": [
    "q_4, q_5, q_6, T_34, T_45, T_56 = Q_456(r_03, r_06)"
   ]
  },
  {
   "cell_type": "code",
   "execution_count": 35,
   "metadata": {
    "collapsed": true
   },
   "outputs": [],
   "source": [
    "state_ik = {q1: q_1, q2: q_2, q3: q_3, q4: q_4, q5: q_5, q6: q_6}"
   ]
  },
  {
   "cell_type": "code",
   "execution_count": 36,
   "metadata": {},
   "outputs": [
    {
     "name": "stdout",
     "output_type": "stream",
     "text": [
      "T0g read by system:\n",
      "\n",
      "[[ 0.10113892  0.90453941  0.41422144  0.67384279]\n",
      " [ 0.9643786   0.01315637 -0.26419845  0.49593246]\n",
      " [-0.24442756  0.42618704 -0.87098783  0.14392622]\n",
      " [ 0.          0.          0.          1.        ]]\n",
      "\n",
      " T0g from FK:\n",
      "\n",
      "[[ 0.10113891  0.90453939  0.41422145  0.76975   ]\n",
      " [ 0.9643786   0.01315638 -0.26419845  0.52631   ]\n",
      " [-0.24442756  0.42618705 -0.87098781  0.104645  ]\n",
      " [ 0.          0.          0.          1.        ]]\n",
      "\n",
      " difference ratio:\n",
      "\n",
      "[[  8.40952252e-08   1.55366114e-08  -3.11086777e-08  -1.24595274e-01]\n",
      " [ -7.46061191e-09  -7.04428226e-07   1.08258562e-08  -5.77179612e-02]\n",
      " [  1.11662783e-08  -1.61275370e-08   2.21682256e-08   3.75375968e-01]\n",
      " [             nan              nan              nan   0.00000000e+00]]\n"
     ]
    },
    {
     "name": "stderr",
     "output_type": "stream",
     "text": [
      "/usr/local/lib/python2.7/dist-packages/ipykernel_launcher.py:11: RuntimeWarning: invalid value encountered in divide\n",
      "  # This is added back by InteractiveShellApp.init_path()\n"
     ]
    }
   ],
   "source": [
    "FK_check(state_ik, pg1, og1)"
   ]
  },
  {
   "cell_type": "code",
   "execution_count": null,
   "metadata": {
    "collapsed": true
   },
   "outputs": [],
   "source": []
  },
  {
   "cell_type": "code",
   "execution_count": null,
   "metadata": {
    "collapsed": true
   },
   "outputs": [],
   "source": []
  },
  {
   "cell_type": "code",
   "execution_count": null,
   "metadata": {
    "collapsed": true
   },
   "outputs": [],
   "source": []
  },
  {
   "cell_type": "code",
   "execution_count": null,
   "metadata": {
    "collapsed": true
   },
   "outputs": [],
   "source": []
  },
  {
   "cell_type": "code",
   "execution_count": null,
   "metadata": {
    "collapsed": true
   },
   "outputs": [],
   "source": []
  },
  {
   "cell_type": "code",
   "execution_count": null,
   "metadata": {
    "collapsed": true
   },
   "outputs": [],
   "source": []
  },
  {
   "cell_type": "code",
   "execution_count": null,
   "metadata": {
    "collapsed": true
   },
   "outputs": [],
   "source": []
  },
  {
   "cell_type": "code",
   "execution_count": null,
   "metadata": {
    "collapsed": true
   },
   "outputs": [],
   "source": []
  }
 ],
 "metadata": {
  "kernelspec": {
   "display_name": "Python 2",
   "language": "python",
   "name": "python2"
  },
  "language_info": {
   "codemirror_mode": {
    "name": "ipython",
    "version": 2
   },
   "file_extension": ".py",
   "mimetype": "text/x-python",
   "name": "python",
   "nbconvert_exporter": "python",
   "pygments_lexer": "ipython2",
   "version": "2.7.12"
  }
 },
 "nbformat": 4,
 "nbformat_minor": 1
}
